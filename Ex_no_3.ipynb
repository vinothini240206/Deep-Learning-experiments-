{
  "cells": [
    {
      "cell_type": "code",
      "execution_count": null,
      "id": "491fd877",
      "metadata": {
        "id": "491fd877"
      },
      "outputs": [],
      "source": [
        "  import numpy as np\n",
        "import pandas as pd\n",
        "import matplotlib.image as img\n",
        "import matplotlib.pyplot as plt\n",
        "from tensorflow import keras\n",
        "from keras import Sequential\n",
        "from keras import regularizers\n",
        "from keras.layers import Dense, Flatten, Dropout\n",
        "%matplotlib inline"
      ]
    },
    {
      "cell_type": "code",
      "execution_count": null,
      "id": "f17b18cd",
      "metadata": {
        "id": "f17b18cd",
        "colab": {
          "base_uri": "https://localhost:8080/"
        },
        "outputId": "75f4451a-187b-44fa-a19a-66245e578a72"
      },
      "outputs": [
        {
          "output_type": "stream",
          "name": "stdout",
          "text": [
            "Downloading data from https://storage.googleapis.com/tensorflow/tf-keras-datasets/mnist.npz\n",
            "11490434/11490434 [==============================] - 0s 0us/step\n"
          ]
        }
      ],
      "source": [
        "(x_train,y_train),(x_test,y_test) = keras.datasets.mnist.load_data()"
      ]
    },
    {
      "cell_type": "code",
      "execution_count": null,
      "id": "3fe10416",
      "metadata": {
        "id": "3fe10416",
        "outputId": "75c09d12-082b-49ec-8521-04b70112df81",
        "colab": {
          "base_uri": "https://localhost:8080/"
        }
      },
      "outputs": [
        {
          "output_type": "stream",
          "name": "stdout",
          "text": [
            "X Train: (60000, 28, 28)\n",
            "------------------------\n",
            "Y Train: (10000, 28, 28)\n"
          ]
        }
      ],
      "source": [
        "print(\"X Train: {}\".format(x_train.shape))\n",
        "print(\"------------------------\")\n",
        "print(\"Y Train: {}\".format(x_test.shape))"
      ]
    },
    {
      "cell_type": "code",
      "execution_count": null,
      "id": "02307670",
      "metadata": {
        "id": "02307670",
        "outputId": "4e1e404e-c1b2-4394-8475-4b8a435d1b48",
        "colab": {
          "base_uri": "https://localhost:8080/",
          "height": 192
        }
      },
      "outputs": [
        {
          "output_type": "display_data",
          "data": {
            "text/plain": [
              "<Figure size 1000x400 with 5 Axes>"
            ],
            "image/png": "[encoded data removed]"
          },
          "metadata": {}
        }
      ],
      "source": [
        "# Plotting sample images\n",
        "\n",
        "fig, axes = plt.subplots(ncols=5, sharex=False, sharey=True, figsize=(10, 4))\n",
        "for i in range(5):\n",
        "    axes[i].set_title(y_train[i])\n",
        "    axes[i].imshow(x_train[i], cmap='gray')\n",
        "    axes[i].get_xaxis().set_visible(False)\n",
        "    axes[i].get_yaxis().set_visible(False)\n",
        "plt.show()"
      ]
    },
    {
      "cell_type": "code",
      "execution_count": null,
      "id": "ec1e43a4",
      "metadata": {
        "id": "ec1e43a4"
      },
      "outputs": [],
      "source": [
        "# Normalizing\n",
        "x_train = x_train/255.0\n",
        "x_test = x_test/255.0"
      ]
    },
    {
      "cell_type": "code",
      "execution_count": null,
      "id": "cd358422",
      "metadata": {
        "id": "cd358422"
      },
      "outputs": [],
      "source": [
        "model = Sequential()\n",
        "model.add(Flatten(input_shape=(28,28)))\n",
        "model.add(Dense(128,activation=\"relu\",kernel_regularizer=regularizers.L2(1e-4)))\n",
        "model.add(Dropout(0.2))\n",
        "model.add(Dense(32,activation=\"relu\",kernel_regularizer=regularizers.L2(1e-4)))\n",
        "model.add(Dropout(0.2))\n",
        "model.add(Dense(10,activation=\"softmax\"))\n",
        "model.compile(loss='sparse_categorical_crossentropy', optimizer='adam',metrics=['accuracy'])"
      ]
    },
    {
      "cell_type": "code",
      "execution_count": null,
      "id": "e4dcc86c",
      "metadata": {
        "id": "e4dcc86c",
        "outputId": "90781ce7-4e3b-4af3-b9fa-0336f2af7b4f",
        "colab": {
          "base_uri": "https://localhost:8080/"
        }
      },
      "outputs": [
        {
          "output_type": "stream",
          "name": "stdout",
          "text": [
            "Epoch 1/10\n",
            "1500/1500 [==============================] - 24s 13ms/step - loss: 0.4449 - accuracy: 0.8756 - val_loss: 0.1925 - val_accuracy: 0.9536\n",
            "Epoch 2/10\n",
            "1500/1500 [==============================] - 15s 10ms/step - loss: 0.2404 - accuracy: 0.9403 - val_loss: 0.1791 - val_accuracy: 0.9577\n",
            "Epoch 3/10\n",
            "1500/1500 [==============================] - 9s 6ms/step - loss: 0.2006 - accuracy: 0.9539 - val_loss: 0.1464 - val_accuracy: 0.9697\n",
            "Epoch 4/10\n",
            "1500/1500 [==============================] - 7s 4ms/step - loss: 0.1853 - accuracy: 0.9580 - val_loss: 0.1473 - val_accuracy: 0.9693\n",
            "Epoch 5/10\n",
            "1500/1500 [==============================] - 8s 5ms/step - loss: 0.1697 - accuracy: 0.9637 - val_loss: 0.1499 - val_accuracy: 0.9702\n",
            "Epoch 6/10\n",
            "1500/1500 [==============================] - 7s 5ms/step - loss: 0.1633 - accuracy: 0.9656 - val_loss: 0.1461 - val_accuracy: 0.9712\n",
            "Epoch 7/10\n",
            "1500/1500 [==============================] - 7s 5ms/step - loss: 0.1569 - accuracy: 0.9670 - val_loss: 0.1374 - val_accuracy: 0.9770\n",
            "Epoch 8/10\n",
            "1500/1500 [==============================] - 8s 5ms/step - loss: 0.1519 - accuracy: 0.9700 - val_loss: 0.1389 - val_accuracy: 0.9739\n",
            "Epoch 9/10\n",
            "1500/1500 [==============================] - 7s 5ms/step - loss: 0.1513 - accuracy: 0.9699 - val_loss: 0.1390 - val_accuracy: 0.9742\n",
            "Epoch 10/10\n",
            "1500/1500 [==============================] - 8s 5ms/step - loss: 0.1472 - accuracy: 0.9715 - val_loss: 0.1473 - val_accuracy: 0.9734\n"
          ]
        }
      ],
      "source": [
        "# traning model\n",
        "history = model.fit(x_train, y_train, epochs=10, validation_split=0.2, verbose=1)"
      ]
    },
    {
      "cell_type": "code",
      "execution_count": null,
      "id": "3eb7621d",
      "metadata": {
        "id": "3eb7621d",
        "outputId": "6b36b5c4-ffea-4311-9273-9fa2b2a60389",
        "colab": {
          "base_uri": "https://localhost:8080/"
        }
      },
      "outputs": [
        {
          "output_type": "stream",
          "name": "stdout",
          "text": [
            "313/313 [==============================] - 1s 2ms/step\n"
          ]
        }
      ],
      "source": [
        "result = model.predict(x_test, verbose=1)"
      ]
    },
    {
      "cell_type": "code",
      "execution_count": null,
      "id": "9169f7d3",
      "metadata": {
        "id": "9169f7d3"
      },
      "outputs": [],
      "source": [
        "y_pred = result.argmax(axis=1)"
      ]
    },
    {
      "cell_type": "code",
      "execution_count": null,
      "id": "73686d01",
      "metadata": {
        "id": "73686d01",
        "outputId": "8718a33a-e7b5-4888-fe1e-cdb34c188139",
        "colab": {
          "base_uri": "https://localhost:8080/"
        }
      },
      "outputs": [
        {
          "output_type": "execute_result",
          "data": {
            "text/plain": [
              "0.9712"
            ]
          },
          "metadata": {},
          "execution_count": 10
        }
      ],
      "source": [
        "from sklearn.metrics import accuracy_score\n",
        "accuracy_score(y_test,y_pred)"
      ]
    },
    {
      "cell_type": "code",
      "execution_count": null,
      "id": "f09d8c7a",
      "metadata": {
        "id": "f09d8c7a",
        "outputId": "426dc4f2-1ccb-4cc4-dea7-97bdd5f2b43a",
        "colab": {
          "base_uri": "https://localhost:8080/",
          "height": 447
        }
      },
      "outputs": [
        {
          "output_type": "execute_result",
          "data": {
            "text/plain": [
              "[<matplotlib.lines.Line2D at 0x7854fe1abfd0>]"
            ]
          },
          "metadata": {},
          "execution_count": 11
        },
        {
          "output_type": "display_data",
          "data": {
            "text/plain": [
              "<Figure size 640x480 with 1 Axes>"
            ],
            "image/png": "[encoded data removed]"
          },
          "metadata": {}
        }
      ],
      "source": [
        "# Plotting Accuracy\n",
        "plt.plot(history.history[\"accuracy\"])\n",
        "plt.plot(history.history[\"val_accuracy\"])"
      ]
    },
    {
      "cell_type": "code",
      "execution_count": null,
      "id": "b7f01b51",
      "metadata": {
        "id": "b7f01b51",
        "outputId": "ba94f8fa-6576-460d-b550-bd7a99ec24be",
        "colab": {
          "base_uri": "https://localhost:8080/",
          "height": 447
        }
      },
      "outputs": [
        {
          "output_type": "execute_result",
          "data": {
            "text/plain": [
              "[<matplotlib.lines.Line2D at 0x7854dc408b50>]"
            ]
          },
          "metadata": {},
          "execution_count": 12
        },
        {
          "output_type": "display_data",
          "data": {
            "text/plain": [
              "<Figure size 640x480 with 1 Axes>"
            ],
            "image/png": "[encoded data removed]"
          },
          "metadata": {}
        }
      ],
      "source": [
        "# Plotting Loss\n",
        "plt.plot(history.history[\"loss\"])\n",
        "plt.plot(history.history[\"val_loss\"])"
      ]
    },
    {
      "cell_type": "code",
      "execution_count": null,
      "id": "2a8617ce",
      "metadata": {
        "id": "2a8617ce"
      },
      "outputs": [],
      "source": [
        "# Dropout Layer Results\n",
        "# Train Accuracy: 97.19\n",
        "# Test Accuracy:  97.72"
      ]
    },
    {
      "cell_type": "code",
      "execution_count": null,
      "id": "b97fc396",
      "metadata": {
        "id": "b97fc396"
      },
      "outputs": [],
      "source": []
    }
  ],
  "metadata": {
    "kernelspec": {
      "display_name": "Python 3 (ipykernel)",
      "language": "python",
      "name": "python3"
    },
    "language_info": {
      "codemirror_mode": {
        "name": "ipython",
        "version": 3
      },
      "file_extension": ".py",
      "mimetype": "text/x-python",
      "name": "python",
      "nbconvert_exporter": "python",
      "pygments_lexer": "ipython3",
      "version": "3.10.9"
    },
    "colab": {
      "provenance": []
    }
  },
  "nbformat": 4,
  "nbformat_minor": 5
}