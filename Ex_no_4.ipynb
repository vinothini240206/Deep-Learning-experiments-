{
  "cells": [
    {
      "cell_type": "markdown",
      "id": "9c67ccb5",
      "metadata": {
        "id": "9c67ccb5"
      },
      "source": [
        "## Deep Neural Network using Mini Batch Gradient Descent and Adam Optimizer"
      ]
    },
    {
      "cell_type": "code",
      "execution_count": null,
      "id": "ef07e850",
      "metadata": {
        "id": "ef07e850"
      },
      "outputs": [],
      "source": [
        "import numpy as np\n",
        "import pandas as pd\n",
        "import matplotlib.image as img\n",
        "import matplotlib.pyplot as plt\n",
        "from tensorflow import keras\n",
        "from keras import Sequential\n",
        "from keras.optimizers import Adam\n",
        "from keras.layers import Dense, Flatten\n",
        "\n",
        "%matplotlib inline"
      ]
    },
    {
      "cell_type": "code",
      "execution_count": null,
      "id": "232c3fed",
      "metadata": {
        "id": "232c3fed",
        "colab": {
          "base_uri": "https://localhost:8080/"
        },
        "outputId": "0a9a449d-3a8e-4a2b-bb71-9e1b9de44589"
      },
      "outputs": [
        {
          "output_type": "stream",
          "name": "stdout",
          "text": [
            "Downloading data from https://storage.googleapis.com/tensorflow/tf-keras-datasets/mnist.npz\n",
            "11490434/11490434 [==============================] - 0s 0us/step\n"
          ]
        }
      ],
      "source": [
        "(x_train,y_train),(x_test,y_test) = keras.datasets.mnist.load_data()"
      ]
    },
    {
      "cell_type": "code",
      "execution_count": null,
      "id": "ae369a8e",
      "metadata": {
        "id": "ae369a8e",
        "outputId": "de66a8f4-0a21-4623-95b6-c1ef563dad71",
        "colab": {
          "base_uri": "https://localhost:8080/"
        }
      },
      "outputs": [
        {
          "output_type": "stream",
          "name": "stdout",
          "text": [
            "X Train: (60000, 28, 28)\n",
            "------------------------\n",
            "Y Train: (10000, 28, 28)\n"
          ]
        }
      ],
      "source": [
        "print(\"X Train: {}\".format(x_train.shape))\n",
        "print(\"------------------------\")\n",
        "print(\"Y Train: {}\".format(x_test.shape))"
      ]
    },
    {
      "cell_type": "code",
      "execution_count": null,
      "id": "3c38f34d",
      "metadata": {
        "id": "3c38f34d",
        "outputId": "6b4b9979-180a-4774-c5a9-eeaddfb14fdd",
        "colab": {
          "base_uri": "https://localhost:8080/",
          "height": 192
        }
      },
      "outputs": [
        {
          "output_type": "display_data",
          "data": {
            "text/plain": [
              "<Figure size 1000x400 with 5 Axes>"
            ],
            "image/png": "[encoded data removed]"
          },
          "metadata": {}
        }
      ],
      "source": [
        "# Plotting sample images\n",
        "\n",
        "fig, axes = plt.subplots(ncols=5, sharex=False, sharey=True, figsize=(10, 4))\n",
        "for i in range(5):\n",
        "    axes[i].set_title(y_train[i])\n",
        "    axes[i].imshow(x_train[i], cmap='gray')\n",
        "    axes[i].get_xaxis().set_visible(False)\n",
        "    axes[i].get_yaxis().set_visible(False)\n",
        "plt.show()"
      ]
    },
    {
      "cell_type": "code",
      "execution_count": null,
      "id": "5219a916",
      "metadata": {
        "id": "5219a916"
      },
      "outputs": [],
      "source": [
        "# Normalizing\n",
        "x_train = x_train/255.0\n",
        "x_test = x_test/255.0"
      ]
    },
    {
      "cell_type": "code",
      "execution_count": null,
      "id": "0881d247",
      "metadata": {
        "id": "0881d247"
      },
      "outputs": [],
      "source": [
        "gradient_optimizer = Adam(learning_rate=0.01)"
      ]
    },
    {
      "cell_type": "code",
      "execution_count": null,
      "id": "7df7ec35",
      "metadata": {
        "id": "7df7ec35"
      },
      "outputs": [],
      "source": [
        "model = Sequential()\n",
        "model.add(Flatten(input_shape=(28,28)))\n",
        "model.add(Dense(128,activation=\"relu\"))\n",
        "model.add(Dense(32,activation=\"relu\"))\n",
        "model.add(Dense(10,activation=\"softmax\"))\n",
        "model.compile(loss='sparse_categorical_crossentropy', optimizer=gradient_optimizer,metrics=['accuracy'])"
      ]
    },
    {
      "cell_type": "code",
      "execution_count": null,
      "id": "7f048e8a",
      "metadata": {
        "id": "7f048e8a",
        "outputId": "8579b9d5-43ea-4ccc-f9c9-2c57386909e7",
        "colab": {
          "base_uri": "https://localhost:8080/"
        }
      },
      "outputs": [
        {
          "output_type": "stream",
          "name": "stdout",
          "text": [
            "Epoch 1/10\n",
            "240/240 [==============================] - 5s 17ms/step - loss: 0.2763 - accuracy: 0.9156 - val_loss: 0.1493 - val_accuracy: 0.9557\n",
            "Epoch 2/10\n",
            "240/240 [==============================] - 4s 16ms/step - loss: 0.1212 - accuracy: 0.9635 - val_loss: 0.1311 - val_accuracy: 0.9607\n",
            "Epoch 3/10\n",
            "240/240 [==============================] - 4s 17ms/step - loss: 0.0966 - accuracy: 0.9700 - val_loss: 0.1210 - val_accuracy: 0.9636\n",
            "Epoch 4/10\n",
            "240/240 [==============================] - 3s 14ms/step - loss: 0.0757 - accuracy: 0.9764 - val_loss: 0.1193 - val_accuracy: 0.9649\n",
            "Epoch 5/10\n",
            "240/240 [==============================] - 2s 10ms/step - loss: 0.0641 - accuracy: 0.9793 - val_loss: 0.1148 - val_accuracy: 0.9707\n",
            "Epoch 6/10\n",
            "240/240 [==============================] - 2s 10ms/step - loss: 0.0532 - accuracy: 0.9827 - val_loss: 0.1524 - val_accuracy: 0.9610\n",
            "Epoch 7/10\n",
            "240/240 [==============================] - 3s 12ms/step - loss: 0.0550 - accuracy: 0.9825 - val_loss: 0.1229 - val_accuracy: 0.9685\n",
            "Epoch 8/10\n",
            "240/240 [==============================] - 3s 13ms/step - loss: 0.0544 - accuracy: 0.9830 - val_loss: 0.1508 - val_accuracy: 0.9672\n",
            "Epoch 9/10\n",
            "240/240 [==============================] - 3s 13ms/step - loss: 0.0426 - accuracy: 0.9866 - val_loss: 0.1429 - val_accuracy: 0.9693\n",
            "Epoch 10/10\n",
            "240/240 [==============================] - 3s 12ms/step - loss: 0.0407 - accuracy: 0.9874 - val_loss: 0.1418 - val_accuracy: 0.9710\n"
          ]
        }
      ],
      "source": [
        "# traning model\n",
        "history = model.fit(x_train, y_train,batch_size=200,epochs=10, validation_split=0.2, verbose=1)"
      ]
    },
    {
      "cell_type": "code",
      "execution_count": null,
      "id": "faf18d03",
      "metadata": {
        "id": "faf18d03",
        "outputId": "3127aada-9b4c-4f1d-8394-3717f15e741c",
        "colab": {
          "base_uri": "https://localhost:8080/"
        }
      },
      "outputs": [
        {
          "output_type": "stream",
          "name": "stdout",
          "text": [
            "313/313 [==============================] - 1s 3ms/step\n"
          ]
        }
      ],
      "source": [
        "result = model.predict(x_test, verbose=1)"
      ]
    },
    {
      "cell_type": "code",
      "execution_count": null,
      "id": "e37bbc4e",
      "metadata": {
        "id": "e37bbc4e"
      },
      "outputs": [],
      "source": [
        "y_pred = result.argmax(axis=1)"
      ]
    },
    {
      "cell_type": "code",
      "execution_count": null,
      "id": "1b230d4f",
      "metadata": {
        "id": "1b230d4f",
        "outputId": "706aabf5-3397-4f30-edeb-317669cb31aa",
        "colab": {
          "base_uri": "https://localhost:8080/"
        }
      },
      "outputs": [
        {
          "output_type": "execute_result",
          "data": {
            "text/plain": [
              "0.9717"
            ]
          },
          "metadata": {},
          "execution_count": 11
        }
      ],
      "source": [
        "from sklearn.metrics import accuracy_score\n",
        "accuracy_score(y_test,y_pred)"
      ]
    },
    {
      "cell_type": "code",
      "execution_count": null,
      "id": "d6713218",
      "metadata": {
        "id": "d6713218",
        "outputId": "499e6d1b-fab7-4c24-e814-8df8a1459721",
        "colab": {
          "base_uri": "https://localhost:8080/",
          "height": 448
        }
      },
      "outputs": [
        {
          "output_type": "execute_result",
          "data": {
            "text/plain": [
              "[<matplotlib.lines.Line2D at 0x7d2f44fc81c0>]"
            ]
          },
          "metadata": {},
          "execution_count": 12
        },
        {
          "output_type": "display_data",
          "data": {
            "text/plain": [
              "<Figure size 640x480 with 1 Axes>"
            ],
            "image/png": "[encoded data removed]"
          },
          "metadata": {}
        }
      ],
      "source": [
        "# Plotting Accuracy\n",
        "plt.plot(history.history[\"accuracy\"])\n",
        "plt.plot(history.history[\"val_accuracy\"])"
      ]
    },
    {
      "cell_type": "code",
      "execution_count": null,
      "id": "518aee9c",
      "metadata": {
        "id": "518aee9c",
        "outputId": "bf6e3ca3-170a-4df7-ac4d-1b5e85b3d2c0",
        "colab": {
          "base_uri": "https://localhost:8080/",
          "height": 447
        }
      },
      "outputs": [
        {
          "output_type": "execute_result",
          "data": {
            "text/plain": [
              "[<matplotlib.lines.Line2D at 0x7d2f44fc9270>]"
            ]
          },
          "metadata": {},
          "execution_count": 13
        },
        {
          "output_type": "display_data",
          "data": {
            "text/plain": [
              "<Figure size 640x480 with 1 Axes>"
            ],
            "image/png": "[encoded data removed]"
          },
          "metadata": {}
        }
      ],
      "source": [
        "# Plotting Loss\n",
        "plt.plot(history.history[\"loss\"])\n",
        "plt.plot(history.history[\"val_loss\"])"
      ]
    },
    {
      "cell_type": "code",
      "execution_count": null,
      "id": "819be301",
      "metadata": {
        "id": "819be301"
      },
      "outputs": [],
      "source": [
        "# Results\n",
        "# Train Accuracy: 98.60%\n",
        "# Test Accuracy: 96.98%"
      ]
    }
  ],
  "metadata": {
    "kernelspec": {
      "display_name": "Python 3 (ipykernel)",
      "language": "python",
      "name": "python3"
    },
    "language_info": {
      "codemirror_mode": {
        "name": "ipython",
        "version": 3
      },
      "file_extension": ".py",
      "mimetype": "text/x-python",
      "name": "python",
      "nbconvert_exporter": "python",
      "pygments_lexer": "ipython3",
      "version": "3.10.9"
    },
    "colab": {
      "provenance": []
    }
  },
  "nbformat": 4,
  "nbformat_minor": 5
}