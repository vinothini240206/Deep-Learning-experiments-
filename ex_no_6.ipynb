{
  "cells": [
    {
      "cell_type": "markdown",
      "metadata": {
        "id": "q6sqLSXGp9wG"
      },
      "source": [
        "<h2 style='color:blue' align='center'>Implementation of mini batch grandient descent in python</h2>"
      ]
    },
    {
      "cell_type": "markdown",
      "metadata": {
        "id": "vw7ApU4qp9wK"
      },
      "source": [
        "#### We will use very simple home prices data set to implement mini batch gradient descent in python.\n",
        "\n",
        "1. Batch gradient descent uses *all* training samples in forward pass to calculate cumulitive error and than we adjust weights using derivaties\n",
        "\n",
        "2. Stochastic GD: we randomly pick *one* training sample, perform forward pass, compute the error and immidiately adjust weights\n",
        "\n",
        "3. Mini batch GD: we use a batch of m samples where 0 < m < n (where n is total number of training samples)\n"
      ]
    },
    {
      "cell_type": "code",
      "execution_count": null,
      "metadata": {
        "id": "uq9gwbVXp9wL"
      },
      "outputs": [],
      "source": [
        "import pandas as pd\n",
        "import numpy as np\n",
        "from matplotlib import pyplot as plt\n",
        "%matplotlib inline"
      ]
    },
    {
      "cell_type": "markdown",
      "metadata": {
        "id": "9IMGATUep9wM"
      },
      "source": [
        "##### Load the dataset in pandas dataframe"
      ]
    },
    {
      "cell_type": "code",
      "execution_count": null,
      "metadata": {
        "colab": {
          "base_uri": "https://localhost:8080/",
          "height": 206
        },
        "id": "TZgkt04Fp9wM",
        "outputId": "ec0dfddc-eb2f-4291-cb75-849f5b80596a"
      },
      "outputs": [
        {
          "output_type": "execute_result",
          "data": {
            "text/plain": [
              "    area  bedrooms  price\n",
              "13  1100         2   40.0\n",
              "7   3300         4  155.0\n",
              "3   1521         3   75.0\n",
              "18  2770         3  102.0\n",
              "11  2785         4  140.0"
            ],
            "text/html": [
              "\n",
              "  <div id=\"df-d05110c1-fb70-4202-a7aa-2082c73e8a59\" class=\"colab-df-container\">\n",
              "    <div>\n",
              "<style scoped>\n",
              "    .dataframe tbody tr th:only-of-type {\n",
              "        vertical-align: middle;\n",
              "    }\n",
              "\n",
              "    .dataframe tbody tr th {\n",
              "        vertical-align: top;\n",
              "    }\n",
              "\n",
              "    .dataframe thead th {\n",
              "        text-align: right;\n",
              "    }\n",
              "</style>\n",
              "<table border=\"1\" class=\"dataframe\">\n",
              "  <thead>\n",
              "    <tr style=\"text-align: right;\">\n",
              "      <th></th>\n",
              "      <th>area</th>\n",
              "      <th>bedrooms</th>\n",
              "      <th>price</th>\n",
              "    </tr>\n",
              "  </thead>\n",
              "  <tbody>\n",
              "    <tr>\n",
              "      <th>13</th>\n",
              "      <td>1100</td>\n",
              "      <td>2</td>\n",
              "      <td>40.0</td>\n",
              "    </tr>\n",
              "    <tr>\n",
              "      <th>7</th>\n",
              "      <td>3300</td>\n",
              "      <td>4</td>\n",
              "      <td>155.0</td>\n",
              "    </tr>\n",
              "    <tr>\n",
              "      <th>3</th>\n",
              "      <td>1521</td>\n",
              "      <td>3</td>\n",
              "      <td>75.0</td>\n",
              "    </tr>\n",
              "    <tr>\n",
              "      <th>18</th>\n",
              "      <td>2770</td>\n",
              "      <td>3</td>\n",
              "      <td>102.0</td>\n",
              "    </tr>\n",
              "    <tr>\n",
              "      <th>11</th>\n",
              "      <td>2785</td>\n",
              "      <td>4</td>\n",
              "      <td>140.0</td>\n",
              "    </tr>\n",
              "  </tbody>\n",
              "</table>\n",
              "</div>\n",
              "    <div class=\"colab-df-buttons\">\n",
              "\n",
              "  <div class=\"colab-df-container\">\n",
              "    <button class=\"colab-df-convert\" onclick=\"convertToInteractive('df-d05110c1-fb70-4202-a7aa-2082c73e8a59')\"\n",
              "            title=\"Convert this dataframe to an interactive table.\"\n",
              "            style=\"display:none;\">\n",
              "\n",
              "  <svg xmlns=\"http://www.w3.org/2000/svg\" height=\"24px\" viewBox=\"0 -960 960 960\">\n",
              "    <path d=\"M120-120v-720h720v720H120Zm60-500h600v-160H180v160Zm220 220h160v-160H400v160Zm0 220h160v-160H400v160ZM180-400h160v-160H180v160Zm440 0h160v-160H620v160ZM180-180h160v-160H180v160Zm440 0h160v-160H620v160Z\"/>\n",
              "  </svg>\n",
              "    </button>\n",
              "\n",
              "  <style>\n",
              "    .colab-df-container {\n",
              "      display:flex;\n",
              "      gap: 12px;\n",
              "    }\n",
              "\n",
              "    .colab-df-convert {\n",
              "      background-color: #E8F0FE;\n",
              "      border: none;\n",
              "      border-radius: 50%;\n",
              "      cursor: pointer;\n",
              "      display: none;\n",
              "      fill: #1967D2;\n",
              "      height: 32px;\n",
              "      padding: 0 0 0 0;\n",
              "      width: 32px;\n",
              "    }\n",
              "\n",
              "    .colab-df-convert:hover {\n",
              "      background-color: #E2EBFA;\n",
              "      box-shadow: 0px 1px 2px rgba(60, 64, 67, 0.3), 0px 1px 3px 1px rgba(60, 64, 67, 0.15);\n",
              "      fill: #174EA6;\n",
              "    }\n",
              "\n",
              "    .colab-df-buttons div {\n",
              "      margin-bottom: 4px;\n",
              "    }\n",
              "\n",
              "    [theme=dark] .colab-df-convert {\n",
              "      background-color: #3B4455;\n",
              "      fill: #D2E3FC;\n",
              "    }\n",
              "\n",
              "    [theme=dark] .colab-df-convert:hover {\n",
              "      background-color: #434B5C;\n",
              "      box-shadow: 0px 1px 3px 1px rgba(0, 0, 0, 0.15);\n",
              "      filter: drop-shadow(0px 1px 2px rgba(0, 0, 0, 0.3));\n",
              "      fill: #FFFFFF;\n",
              "    }\n",
              "  </style>\n",
              "\n",
              "    <script>\n",
              "      const buttonEl =\n",
              "        document.querySelector('#df-d05110c1-fb70-4202-a7aa-2082c73e8a59 button.colab-df-convert');\n",
              "      buttonEl.style.display =\n",
              "        google.colab.kernel.accessAllowed ? 'block' : 'none';\n",
              "\n",
              "      async function convertToInteractive(key) {\n",
              "        const element = document.querySelector('#df-d05110c1-fb70-4202-a7aa-2082c73e8a59');\n",
              "        const dataTable =\n",
              "          await google.colab.kernel.invokeFunction('convertToInteractive',\n",
              "                                                    [key], {});\n",
              "        if (!dataTable) return;\n",
              "\n",
              "        const docLinkHtml = 'Like what you see? Visit the ' +\n",
              "          '<a target=\"_blank\" href=https://colab.research.google.com/notebooks/data_table.ipynb>data table notebook</a>'\n",
              "          + ' to learn more about interactive tables.';\n",
              "        element.innerHTML = '';\n",
              "        dataTable['output_type'] = 'display_data';\n",
              "        await google.colab.output.renderOutput(dataTable, element);\n",
              "        const docLink = document.createElement('div');\n",
              "        docLink.innerHTML = docLinkHtml;\n",
              "        element.appendChild(docLink);\n",
              "      }\n",
              "    </script>\n",
              "  </div>\n",
              "\n",
              "\n",
              "<div id=\"df-e576299f-af84-4906-bafc-bdaf7897bf35\">\n",
              "  <button class=\"colab-df-quickchart\" onclick=\"quickchart('df-e576299f-af84-4906-bafc-bdaf7897bf35')\"\n",
              "            title=\"Suggest charts\"\n",
              "            style=\"display:none;\">\n",
              "\n",
              "<svg xmlns=\"http://www.w3.org/2000/svg\" height=\"24px\"viewBox=\"0 0 24 24\"\n",
              "     width=\"24px\">\n",
              "    <g>\n",
              "        <path d=\"M19 3H5c-1.1 0-2 .9-2 2v14c0 1.1.9 2 2 2h14c1.1 0 2-.9 2-2V5c0-1.1-.9-2-2-2zM9 17H7v-7h2v7zm4 0h-2V7h2v10zm4 0h-2v-4h2v4z\"/>\n",
              "    </g>\n",
              "</svg>\n",
              "  </button>\n",
              "\n",
              "<style>\n",
              "  .colab-df-quickchart {\n",
              "      --bg-color: #E8F0FE;\n",
              "      --fill-color: #1967D2;\n",
              "      --hover-bg-color: #E2EBFA;\n",
              "      --hover-fill-color: #174EA6;\n",
              "      --disabled-fill-color: #AAA;\n",
              "      --disabled-bg-color: #DDD;\n",
              "  }\n",
              "\n",
              "  [theme=dark] .colab-df-quickchart {\n",
              "      --bg-color: #3B4455;\n",
              "      --fill-color: #D2E3FC;\n",
              "      --hover-bg-color: #434B5C;\n",
              "      --hover-fill-color: #FFFFFF;\n",
              "      --disabled-bg-color: #3B4455;\n",
              "      --disabled-fill-color: #666;\n",
              "  }\n",
              "\n",
              "  .colab-df-quickchart {\n",
              "    background-color: var(--bg-color);\n",
              "    border: none;\n",
              "    border-radius: 50%;\n",
              "    cursor: pointer;\n",
              "    display: none;\n",
              "    fill: var(--fill-color);\n",
              "    height: 32px;\n",
              "    padding: 0;\n",
              "    width: 32px;\n",
              "  }\n",
              "\n",
              "  .colab-df-quickchart:hover {\n",
              "    background-color: var(--hover-bg-color);\n",
              "    box-shadow: 0 1px 2px rgba(60, 64, 67, 0.3), 0 1px 3px 1px rgba(60, 64, 67, 0.15);\n",
              "    fill: var(--button-hover-fill-color);\n",
              "  }\n",
              "\n",
              "  .colab-df-quickchart-complete:disabled,\n",
              "  .colab-df-quickchart-complete:disabled:hover {\n",
              "    background-color: var(--disabled-bg-color);\n",
              "    fill: var(--disabled-fill-color);\n",
              "    box-shadow: none;\n",
              "  }\n",
              "\n",
              "  .colab-df-spinner {\n",
              "    border: 2px solid var(--fill-color);\n",
              "    border-color: transparent;\n",
              "    border-bottom-color: var(--fill-color);\n",
              "    animation:\n",
              "      spin 1s steps(1) infinite;\n",
              "  }\n",
              "\n",
              "  @keyframes spin {\n",
              "    0% {\n",
              "      border-color: transparent;\n",
              "      border-bottom-color: var(--fill-color);\n",
              "      border-left-color: var(--fill-color);\n",
              "    }\n",
              "    20% {\n",
              "      border-color: transparent;\n",
              "      border-left-color: var(--fill-color);\n",
              "      border-top-color: var(--fill-color);\n",
              "    }\n",
              "    30% {\n",
              "      border-color: transparent;\n",
              "      border-left-color: var(--fill-color);\n",
              "      border-top-color: var(--fill-color);\n",
              "      border-right-color: var(--fill-color);\n",
              "    }\n",
              "    40% {\n",
              "      border-color: transparent;\n",
              "      border-right-color: var(--fill-color);\n",
              "      border-top-color: var(--fill-color);\n",
              "    }\n",
              "    60% {\n",
              "      border-color: transparent;\n",
              "      border-right-color: var(--fill-color);\n",
              "    }\n",
              "    80% {\n",
              "      border-color: transparent;\n",
              "      border-right-color: var(--fill-color);\n",
              "      border-bottom-color: var(--fill-color);\n",
              "    }\n",
              "    90% {\n",
              "      border-color: transparent;\n",
              "      border-bottom-color: var(--fill-color);\n",
              "    }\n",
              "  }\n",
              "</style>\n",
              "\n",
              "  <script>\n",
              "    async function quickchart(key) {\n",
              "      const quickchartButtonEl =\n",
              "        document.querySelector('#' + key + ' button');\n",
              "      quickchartButtonEl.disabled = true;  // To prevent multiple clicks.\n",
              "      quickchartButtonEl.classList.add('colab-df-spinner');\n",
              "      try {\n",
              "        const charts = await google.colab.kernel.invokeFunction(\n",
              "            'suggestCharts', [key], {});\n",
              "      } catch (error) {\n",
              "        console.error('Error during call to suggestCharts:', error);\n",
              "      }\n",
              "      quickchartButtonEl.classList.remove('colab-df-spinner');\n",
              "      quickchartButtonEl.classList.add('colab-df-quickchart-complete');\n",
              "    }\n",
              "    (() => {\n",
              "      let quickchartButtonEl =\n",
              "        document.querySelector('#df-e576299f-af84-4906-bafc-bdaf7897bf35 button');\n",
              "      quickchartButtonEl.style.display =\n",
              "        google.colab.kernel.accessAllowed ? 'block' : 'none';\n",
              "    })();\n",
              "  </script>\n",
              "</div>\n",
              "\n",
              "    </div>\n",
              "  </div>\n"
            ],
            "application/vnd.google.colaboratory.intrinsic+json": {
              "type": "dataframe",
              "summary": "{\n  \"name\": \"df\",\n  \"rows\": 5,\n  \"fields\": [\n    {\n      \"column\": \"area\",\n      \"properties\": {\n        \"dtype\": \"number\",\n        \"std\": 935,\n        \"min\": 1100,\n        \"max\": 3300,\n        \"num_unique_values\": 5,\n        \"samples\": [\n          3300,\n          2785,\n          1521\n        ],\n        \"semantic_type\": \"\",\n        \"description\": \"\"\n      }\n    },\n    {\n      \"column\": \"bedrooms\",\n      \"properties\": {\n        \"dtype\": \"number\",\n        \"std\": 0,\n        \"min\": 2,\n        \"max\": 4,\n        \"num_unique_values\": 3,\n        \"samples\": [\n          2,\n          4,\n          3\n        ],\n        \"semantic_type\": \"\",\n        \"description\": \"\"\n      }\n    },\n    {\n      \"column\": \"price\",\n      \"properties\": {\n        \"dtype\": \"number\",\n        \"std\": 46.97126781341973,\n        \"min\": 40.0,\n        \"max\": 155.0,\n        \"num_unique_values\": 5,\n        \"samples\": [\n          155.0,\n          140.0,\n          75.0\n        ],\n        \"semantic_type\": \"\",\n        \"description\": \"\"\n      }\n    }\n  ]\n}"
            }
          },
          "metadata": {},
          "execution_count": 14
        }
      ],
      "source": [
        "df = pd.read_csv(\"homeprices_banglore.csv\")\n",
        "df.sample(5)"
      ]
    },
    {
      "cell_type": "markdown",
      "metadata": {
        "id": "NDmJZlqCp9wN"
      },
      "source": [
        "##### Preprocessing/Scaling: Since our columns are on different sacle it is important to perform scaling on them"
      ]
    },
    {
      "cell_type": "code",
      "execution_count": null,
      "metadata": {
        "colab": {
          "base_uri": "https://localhost:8080/"
        },
        "id": "-l35WHbnp9wN",
        "outputId": "a17116eb-f502-4f10-fc3e-5381278bb781"
      },
      "outputs": [
        {
          "output_type": "execute_result",
          "data": {
            "text/plain": [
              "array([[0.08827586, 0.25      ],\n",
              "       [0.62068966, 0.75      ],\n",
              "       [0.22068966, 0.5       ],\n",
              "       [0.24862069, 0.5       ],\n",
              "       [0.13793103, 0.25      ],\n",
              "       [0.12758621, 0.25      ],\n",
              "       [0.6662069 , 0.75      ],\n",
              "       [0.86206897, 0.75      ],\n",
              "       [0.17586207, 0.5       ],\n",
              "       [1.        , 1.        ],\n",
              "       [0.34482759, 0.5       ],\n",
              "       [0.68448276, 0.75      ],\n",
              "       [0.06896552, 0.25      ],\n",
              "       [0.10344828, 0.25      ],\n",
              "       [0.5       , 0.5       ],\n",
              "       [0.12931034, 0.25      ],\n",
              "       [0.13103448, 0.5       ],\n",
              "       [0.25517241, 0.5       ],\n",
              "       [0.67931034, 0.5       ],\n",
              "       [0.        , 0.        ]])"
            ]
          },
          "metadata": {},
          "execution_count": 15
        }
      ],
      "source": [
        "from sklearn import preprocessing\n",
        "sx = preprocessing.MinMaxScaler()\n",
        "sy = preprocessing.MinMaxScaler()\n",
        "\n",
        "scaled_X = sx.fit_transform(df.drop('price',axis='columns'))\n",
        "scaled_y = sy.fit_transform(df['price'].values.reshape(df.shape[0],1))\n",
        "\n",
        "scaled_X"
      ]
    },
    {
      "cell_type": "code",
      "execution_count": null,
      "metadata": {
        "colab": {
          "base_uri": "https://localhost:8080/"
        },
        "id": "EAb1C0Myp9wO",
        "outputId": "2f5973cc-0344-4575-86a9-6dda98f16e17"
      },
      "outputs": [
        {
          "output_type": "execute_result",
          "data": {
            "text/plain": [
              "array([[0.05237037],\n",
              "       [0.65185185],\n",
              "       [0.22222222],\n",
              "       [0.31851852],\n",
              "       [0.14074074],\n",
              "       [0.04444444],\n",
              "       [0.76296296],\n",
              "       [0.91111111],\n",
              "       [0.13333333],\n",
              "       [1.        ],\n",
              "       [0.37037037],\n",
              "       [0.8       ],\n",
              "       [0.04444444],\n",
              "       [0.05925926],\n",
              "       [0.51111111],\n",
              "       [0.07407407],\n",
              "       [0.11851852],\n",
              "       [0.20740741],\n",
              "       [0.51851852],\n",
              "       [0.        ]])"
            ]
          },
          "metadata": {},
          "execution_count": 16
        }
      ],
      "source": [
        "scaled_y"
      ]
    },
    {
      "cell_type": "markdown",
      "metadata": {
        "id": "Zn-CAPG3p9wO"
      },
      "source": [
        "##### We should convert target column (i.e. price) into one dimensional array. It has become 2D due to scaling that we did above but now we should change to 1D"
      ]
    },
    {
      "cell_type": "code",
      "execution_count": null,
      "metadata": {
        "scrolled": false,
        "colab": {
          "base_uri": "https://localhost:8080/"
        },
        "id": "bWHR-T2Pp9wO",
        "outputId": "6ca168d7-8e06-4670-a437-38b260254e84"
      },
      "outputs": [
        {
          "output_type": "execute_result",
          "data": {
            "text/plain": [
              "array([0.05237037, 0.65185185, 0.22222222, 0.31851852, 0.14074074,\n",
              "       0.04444444, 0.76296296, 0.91111111, 0.13333333, 1.        ,\n",
              "       0.37037037, 0.8       , 0.04444444, 0.05925926, 0.51111111,\n",
              "       0.07407407, 0.11851852, 0.20740741, 0.51851852, 0.        ])"
            ]
          },
          "metadata": {},
          "execution_count": 17
        }
      ],
      "source": [
        "scaled_y.reshape(20,)"
      ]
    },
    {
      "cell_type": "markdown",
      "metadata": {
        "id": "NWXLNaXZp9wO"
      },
      "source": [
        "##### Gradient descent allows you to find weights (w1,w2,w3) and bias in following linear equation for housing price prediction"
      ]
    },
    {
      "cell_type": "markdown",
      "metadata": {
        "id": "6jMa-3cjp9wP"
      },
      "source": [
        "<img src=\"hp.jpg\"/>"
      ]
    },
    {
      "cell_type": "markdown",
      "metadata": {
        "id": "Xq14Hptep9wP"
      },
      "source": [
        "##### Now is the time to implement batch gradient descent."
      ]
    },
    {
      "cell_type": "markdown",
      "metadata": {
        "id": "3oyM3dBkp9wP"
      },
      "source": [
        "<h3 style='color:purple'>(1) Batch Gradient Descent Implementation</h3>"
      ]
    },
    {
      "cell_type": "code",
      "execution_count": null,
      "metadata": {
        "colab": {
          "base_uri": "https://localhost:8080/"
        },
        "id": "kdzMB9pzp9wP",
        "outputId": "ac662463-cabd-4e3b-e426-210b776da8d5"
      },
      "outputs": [
        {
          "output_type": "execute_result",
          "data": {
            "text/plain": [
              "array([11,  2, 17, 19,  9, 16,  8,  0,  6,  4, 12, 13, 15,  5, 14,  7,  1,\n",
              "       10,  3, 18])"
            ]
          },
          "metadata": {},
          "execution_count": 18
        }
      ],
      "source": [
        "np.random.permutation(20)"
      ]
    },
    {
      "cell_type": "code",
      "execution_count": null,
      "metadata": {
        "scrolled": true,
        "colab": {
          "base_uri": "https://localhost:8080/"
        },
        "id": "365oRVSbp9wQ",
        "outputId": "ce7cea72-1fe0-4e44-cfcf-81eee66a0b02"
      },
      "outputs": [
        {
          "output_type": "execute_result",
          "data": {
            "text/plain": [
              "(array([0.70997286, 0.67801237]), -0.23345141406082762, 0.00947472724026296)"
            ]
          },
          "metadata": {},
          "execution_count": 19
        }
      ],
      "source": [
        "def mini_batch_gradient_descent(X, y_true, epochs = 100, batch_size = 5, learning_rate = 0.01):\n",
        "\n",
        "    number_of_features = X.shape[1]\n",
        "    # numpy array with 1 row and columns equal to number of features. In\n",
        "    # our case number_of_features = 3 (area, bedroom and age)\n",
        "    w = np.ones(shape=(number_of_features))\n",
        "    b = 0\n",
        "    total_samples = X.shape[0] # number of rows in X\n",
        "\n",
        "    if batch_size > total_samples: # In this case mini batch becomes same as batch gradient descent\n",
        "        batch_size = total_samples\n",
        "\n",
        "    cost_list = []\n",
        "    epoch_list = []\n",
        "\n",
        "    num_batches = int(total_samples/batch_size)\n",
        "\n",
        "    for i in range(epochs):\n",
        "        random_indices = np.random.permutation(total_samples)\n",
        "        X_tmp = X[random_indices]\n",
        "        y_tmp = y_true[random_indices]\n",
        "\n",
        "        for j in range(0,total_samples,batch_size):\n",
        "            Xj = X_tmp[j:j+batch_size]\n",
        "            yj = y_tmp[j:j+batch_size]\n",
        "            y_predicted = np.dot(w, Xj.T) + b\n",
        "\n",
        "            w_grad = -(2/len(Xj))*(Xj.T.dot(yj-y_predicted))\n",
        "            b_grad = -(2/len(Xj))*np.sum(yj-y_predicted)\n",
        "\n",
        "            w = w - learning_rate * w_grad\n",
        "            b = b - learning_rate * b_grad\n",
        "\n",
        "            cost = np.mean(np.square(yj-y_predicted)) # MSE (Mean Squared Error)\n",
        "\n",
        "        if i%10==0:\n",
        "            cost_list.append(cost)\n",
        "            epoch_list.append(i)\n",
        "\n",
        "    return w, b, cost, cost_list, epoch_list\n",
        "\n",
        "w, b, cost, cost_list, epoch_list = mini_batch_gradient_descent(\n",
        "    scaled_X,\n",
        "    scaled_y.reshape(scaled_y.shape[0],),\n",
        "    epochs = 120,\n",
        "    batch_size = 5\n",
        ")\n",
        "w, b, cost"
      ]
    },
    {
      "cell_type": "code",
      "execution_count": null,
      "metadata": {
        "id": "2l47_218p9wQ"
      },
      "outputs": [],
      "source": [
        "#(array([0.70712464, 0.67456527]), -0.23034857438407427, 0.0068641890429808105)"
      ]
    },
    {
      "cell_type": "markdown",
      "metadata": {
        "id": "MZmpW26Dp9wQ"
      },
      "source": [
        "###### Check price equation above. In that equation we were trying to find values of w1,w2,w3 and bias. Here we got these values for each of them,\n",
        "w1 = 0.50381807\n",
        "w2 = 0.85506386\n",
        "w3 = 0.34167275\n",
        "bias = -0.3223"
      ]
    },
    {
      "cell_type": "markdown",
      "metadata": {
        "id": "ZCHfyF3Pp9wQ"
      },
      "source": [
        "###### Now plot epoch vs cost graph to see how cost reduces as number of epoch increases"
      ]
    },
    {
      "cell_type": "code",
      "execution_count": null,
      "metadata": {
        "scrolled": true,
        "colab": {
          "base_uri": "https://localhost:8080/",
          "height": 466
        },
        "id": "t0tqh0Cfp9wR",
        "outputId": "de7ba2c6-7427-4c0c-a329-0d3d9dc4a1c9"
      },
      "outputs": [
        {
          "output_type": "execute_result",
          "data": {
            "text/plain": [
              "[<matplotlib.lines.Line2D at 0x7de8ab56f5b0>]"
            ]
          },
          "metadata": {},
          "execution_count": 21
        },
        {
          "output_type": "display_data",
          "data": {
            "text/plain": [
              "<Figure size 640x480 with 1 Axes>"
            ],
            "image/png": "[encoded data removed]"
          },
          "metadata": {}
        }
      ],
      "source": [
        "plt.xlabel(\"epoch\")\n",
        "plt.ylabel(\"cost\")\n",
        "plt.plot(epoch_list,cost_list)"
      ]
    },
    {
      "cell_type": "markdown",
      "metadata": {
        "id": "dpz9ZVLTp9wR"
      },
      "source": [
        "###### Lets do some predictions now."
      ]
    },
    {
      "cell_type": "code",
      "execution_count": null,
      "metadata": {
        "colab": {
          "base_uri": "https://localhost:8080/"
        },
        "id": "n1InHtd-p9wR",
        "outputId": "d91aa2ca-6f6e-4f2b-9b4b-80b73462724e"
      },
      "outputs": [
        {
          "output_type": "stream",
          "name": "stderr",
          "text": [
            "/usr/local/lib/python3.10/dist-packages/sklearn/base.py:439: UserWarning: X does not have valid feature names, but MinMaxScaler was fitted with feature names\n",
            "  warnings.warn(\n"
          ]
        },
        {
          "output_type": "execute_result",
          "data": {
            "text/plain": [
              "128.62364088986763"
            ]
          },
          "metadata": {},
          "execution_count": 22
        }
      ],
      "source": [
        "def predict(area,bedrooms,w,b):\n",
        "    scaled_X = sx.transform([[area, bedrooms]])[0]\n",
        "    # here w1 = w[0] , w2 = w[1], w3 = w[2] and bias is b\n",
        "    # equation for price is w1*area + w2*bedrooms + w3*age + bias\n",
        "    # scaled_X[0] is area\n",
        "    # scaled_X[1] is bedrooms\n",
        "    # scaled_X[2] is age\n",
        "    scaled_price = w[0] * scaled_X[0] + w[1] * scaled_X[1] + b\n",
        "    # once we get price prediction we need to to rescal it back to original value\n",
        "    # also since it returns 2D array, to get single value we need to do value[0][0]\n",
        "    return sy.inverse_transform([[scaled_price]])[0][0]\n",
        "\n",
        "predict(2600,4,w,b)"
      ]
    },
    {
      "cell_type": "code",
      "execution_count": null,
      "metadata": {
        "colab": {
          "base_uri": "https://localhost:8080/"
        },
        "id": "XtW8w3KDp9wR",
        "outputId": "f38d42c7-3e16-4f36-c9cc-12b483a34898"
      },
      "outputs": [
        {
          "output_type": "stream",
          "name": "stderr",
          "text": [
            "/usr/local/lib/python3.10/dist-packages/sklearn/base.py:439: UserWarning: X does not have valid feature names, but MinMaxScaler was fitted with feature names\n",
            "  warnings.warn(\n"
          ]
        },
        {
          "output_type": "execute_result",
          "data": {
            "text/plain": [
              "29.97706880696913"
            ]
          },
          "metadata": {},
          "execution_count": 23
        }
      ],
      "source": [
        "predict(1000,2,w,b)"
      ]
    },
    {
      "cell_type": "code",
      "execution_count": null,
      "metadata": {
        "scrolled": true,
        "colab": {
          "base_uri": "https://localhost:8080/"
        },
        "id": "ehCmkZ2Jp9wS",
        "outputId": "d19d1b47-7a74-4098-f316-4c24ff7a467c"
      },
      "outputs": [
        {
          "output_type": "stream",
          "name": "stderr",
          "text": [
            "/usr/local/lib/python3.10/dist-packages/sklearn/base.py:439: UserWarning: X does not have valid feature names, but MinMaxScaler was fitted with feature names\n",
            "  warnings.warn(\n"
          ]
        },
        {
          "output_type": "execute_result",
          "data": {
            "text/plain": [
              "69.38521668028419"
            ]
          },
          "metadata": {},
          "execution_count": 24
        }
      ],
      "source": [
        "predict(1500,3,w,b)"
      ]
    }
  ],
  "metadata": {
    "kernelspec": {
      "display_name": "Python 3",
      "language": "python",
      "name": "python3"
    },
    "language_info": {
      "codemirror_mode": {
        "name": "ipython",
        "version": 3
      },
      "file_extension": ".py",
      "mimetype": "text/x-python",
      "name": "python",
      "nbconvert_exporter": "python",
      "pygments_lexer": "ipython3",
      "version": "3.8.5"
    },
    "colab": {
      "provenance": []
    }
  },
  "nbformat": 4,
  "nbformat_minor": 0
}