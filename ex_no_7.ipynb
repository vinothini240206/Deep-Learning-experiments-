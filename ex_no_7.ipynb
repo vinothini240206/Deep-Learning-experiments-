{
  "nbformat": 4,
  "nbformat_minor": 0,
  "metadata": {
    "colab": {
      "provenance": []
    },
    "kernelspec": {
      "name": "python3",
      "display_name": "Python 3"
    },
    "language_info": {
      "name": "python"
    }
  },
  "cells": [
    {
      "cell_type": "code",
      "execution_count": null,
      "metadata": {
        "colab": {
          "base_uri": "https://localhost:8080/"
        },
        "id": "qRyzWHzEG5Oo",
        "outputId": "d66dd75e-3170-43d0-c082-580a8ad197f2"
      },
      "outputs": [
        {
          "output_type": "stream",
          "name": "stdout",
          "text": [
            "Convolution Output:\n",
            "[[2. 0. 3.]\n",
            " [5. 1. 2.]\n",
            " [2. 2. 1.]]\n",
            "\n",
            "Max Pooling Output:\n",
            "[[5.]]\n"
          ]
        }
      ],
      "source": [
        "import numpy as np\n",
        "\n",
        "# Define input image\n",
        "image = np.array([[1, 0, 2, 3],\n",
        "                  [3, 1, 0, 1],\n",
        "                  [2, 2, 0, 2],\n",
        "                  [2, 0, 0, 1]])\n",
        "\n",
        "# Define convolution kernel\n",
        "kernel = np.array([[1, 0],\n",
        "                   [0, 1]])\n",
        "\n",
        "# Define max pooling parameters\n",
        "pool_size = 2\n",
        "stride = 2\n",
        "\n",
        "# Perform convolution\n",
        "def convolution(image, kernel):\n",
        "    image_height, image_width = image.shape\n",
        "    kernel_height, kernel_width = kernel.shape\n",
        "    output_height = image_height - kernel_height + 1\n",
        "    output_width = image_width - kernel_width + 1\n",
        "    conv_output = np.zeros((output_height, output_width))\n",
        "\n",
        "    for i in range(output_height):\n",
        "        for j in range(output_width):\n",
        "            conv_output[i, j] = np.sum(image[i:i+kernel_height, j:j+kernel_width] * kernel)\n",
        "\n",
        "    return conv_output\n",
        "\n",
        "conv_output = convolution(image, kernel)\n",
        "print(\"Convolution Output:\")\n",
        "print(conv_output)\n",
        "\n",
        "# Perform max pooling\n",
        "def max_pooling(image, pool_size, stride):\n",
        "    image_height, image_width = image.shape\n",
        "    output_height = (image_height - pool_size) // stride + 1\n",
        "    output_width = (image_width - pool_size) // stride + 1\n",
        "    pooled_output = np.zeros((output_height, output_width))\n",
        "\n",
        "    for i in range(0, image_height - pool_size + 1, stride):\n",
        "        for j in range(0, image_width - pool_size + 1, stride):\n",
        "            pooled_output[i//stride, j//stride] = np.max(image[i:i+pool_size, j:j+pool_size])\n",
        "\n",
        "    return pooled_output\n",
        "\n",
        "pooled_output = max_pooling(conv_output, pool_size, stride)\n",
        "print(\"\\nMax Pooling Output:\")\n",
        "print(pooled_output)\n"
      ]
    }
  ]
}