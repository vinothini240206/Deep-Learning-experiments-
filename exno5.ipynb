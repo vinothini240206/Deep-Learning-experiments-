{
  "cells": [
    {
      "cell_type": "code",
      "execution_count": null,
      "metadata": {
        "id": "-YHRXLuoQAI8"
      },
      "outputs": [],
      "source": [
        "import tensorflow as tf\n"
      ]
    },
    {
      "cell_type": "code",
      "execution_count": null,
      "metadata": {
        "colab": {
          "base_uri": "https://localhost:8080/"
        },
        "id": "VEOqxsTHQOv2",
        "outputId": "a0a24b88-cebb-4799-893d-7fc55ba5d0e0"
      },
      "outputs": [
        {
          "output_type": "stream",
          "name": "stdout",
          "text": [
            "Downloading data from https://www.cs.toronto.edu/~kriz/cifar-10-python.tar.gz\n",
            "170498071/170498071 [==============================] - 3s 0us/step\n"
          ]
        }
      ],
      "source": [
        "\n",
        "# Load CIFAR-10 dataset\n",
        "(x_train, y_train), (x_test, y_test) = tf.keras.datasets.cifar10.load_data()\n"
      ]
    },
    {
      "cell_type": "code",
      "execution_count": null,
      "metadata": {
        "id": "ZOMWHqNPQR0T"
      },
      "outputs": [],
      "source": [
        "\n",
        "# Preprocess the data\n",
        "x_train = x_train.astype('float32') / 255.0\n",
        "x_test = x_test.astype('float32') / 255.0\n",
        "y_train = tf.keras.utils.to_categorical(y_train, 10)\n",
        "y_test = tf.keras.utils.to_categorical(y_test, 10)\n"
      ]
    },
    {
      "cell_type": "code",
      "execution_count": null,
      "metadata": {
        "id": "bSo_hZSwQV_4"
      },
      "outputs": [],
      "source": [
        "\n",
        "# Define the I2 model\n",
        "def create_i2_model():\n",
        "    model = tf.keras.Sequential([\n",
        "        tf.keras.layers.Flatten(input_shape=(32, 32, 3)),\n",
        "        tf.keras.layers.Dense(512, activation='relu'),\n",
        "        tf.keras.layers.Dense(512, activation='relu'),\n",
        "        tf.keras.layers.Dense(10, activation='softmax')\n",
        "    ])\n",
        "    return model\n",
        "\n",
        "\n",
        "\n"
      ]
    },
    {
      "cell_type": "code",
      "execution_count": null,
      "metadata": {
        "id": "bcm6WJk3QZVT"
      },
      "outputs": [],
      "source": [
        "\n",
        "# Create and compile the I2 model\n",
        "i2_model = create_i2_model()\n",
        "i2_model.compile(optimizer='adam',\n",
        "                 loss='categorical_crossentropy',\n",
        "                 metrics=['accuracy'])\n",
        "\n",
        "\n",
        "\n"
      ]
    },
    {
      "cell_type": "code",
      "execution_count": null,
      "metadata": {
        "colab": {
          "base_uri": "https://localhost:8080/"
        },
        "id": "Akkpy68UQf0d",
        "outputId": "f1c746a5-ba0e-4b6e-a9d8-88a1a472d9d9"
      },
      "outputs": [
        {
          "output_type": "stream",
          "name": "stdout",
          "text": [
            "Epoch 1/50\n",
            "391/391 [==============================] - 21s 50ms/step - loss: 1.8794 - accuracy: 0.3227 - val_loss: 1.6864 - val_accuracy: 0.3921\n",
            "Epoch 2/50\n",
            "391/391 [==============================] - 16s 41ms/step - loss: 1.6617 - accuracy: 0.4040 - val_loss: 1.6057 - val_accuracy: 0.4243\n",
            "Epoch 3/50\n",
            "391/391 [==============================] - 16s 41ms/step - loss: 1.5704 - accuracy: 0.4393 - val_loss: 1.6818 - val_accuracy: 0.3917\n",
            "Epoch 4/50\n",
            "391/391 [==============================] - 16s 42ms/step - loss: 1.5135 - accuracy: 0.4587 - val_loss: 1.5233 - val_accuracy: 0.4556\n",
            "Epoch 5/50\n",
            "391/391 [==============================] - 16s 42ms/step - loss: 1.4749 - accuracy: 0.4749 - val_loss: 1.4783 - val_accuracy: 0.4745\n",
            "Epoch 6/50\n",
            "391/391 [==============================] - 17s 44ms/step - loss: 1.4334 - accuracy: 0.4865 - val_loss: 1.4601 - val_accuracy: 0.4816\n",
            "Epoch 7/50\n",
            "391/391 [==============================] - 16s 41ms/step - loss: 1.4040 - accuracy: 0.4977 - val_loss: 1.4937 - val_accuracy: 0.4621\n",
            "Epoch 8/50\n",
            "391/391 [==============================] - 16s 40ms/step - loss: 1.3757 - accuracy: 0.5102 - val_loss: 1.4166 - val_accuracy: 0.5020\n",
            "Epoch 9/50\n",
            "391/391 [==============================] - 16s 41ms/step - loss: 1.3465 - accuracy: 0.5220 - val_loss: 1.4415 - val_accuracy: 0.4822\n",
            "Epoch 10/50\n",
            "391/391 [==============================] - 16s 40ms/step - loss: 1.3280 - accuracy: 0.5293 - val_loss: 1.4290 - val_accuracy: 0.4922\n",
            "Epoch 11/50\n",
            "391/391 [==============================] - 18s 46ms/step - loss: 1.3047 - accuracy: 0.5359 - val_loss: 1.3693 - val_accuracy: 0.5208\n",
            "Epoch 12/50\n",
            "391/391 [==============================] - 16s 40ms/step - loss: 1.2753 - accuracy: 0.5444 - val_loss: 1.4304 - val_accuracy: 0.4992\n",
            "Epoch 13/50\n",
            "391/391 [==============================] - 16s 41ms/step - loss: 1.2567 - accuracy: 0.5523 - val_loss: 1.3729 - val_accuracy: 0.5163\n",
            "Epoch 14/50\n",
            "391/391 [==============================] - 16s 42ms/step - loss: 1.2326 - accuracy: 0.5608 - val_loss: 1.3722 - val_accuracy: 0.5174\n",
            "Epoch 15/50\n",
            "391/391 [==============================] - 16s 41ms/step - loss: 1.2102 - accuracy: 0.5672 - val_loss: 1.4145 - val_accuracy: 0.5026\n",
            "Epoch 16/50\n",
            "391/391 [==============================] - 18s 46ms/step - loss: 1.1961 - accuracy: 0.5721 - val_loss: 1.3910 - val_accuracy: 0.5147\n",
            "Epoch 17/50\n",
            "391/391 [==============================] - 16s 40ms/step - loss: 1.1725 - accuracy: 0.5818 - val_loss: 1.3974 - val_accuracy: 0.5174\n",
            "Epoch 18/50\n",
            "391/391 [==============================] - 16s 40ms/step - loss: 1.1569 - accuracy: 0.5858 - val_loss: 1.3535 - val_accuracy: 0.5294\n",
            "Epoch 19/50\n",
            "391/391 [==============================] - 16s 41ms/step - loss: 1.1352 - accuracy: 0.5952 - val_loss: 1.3959 - val_accuracy: 0.5242\n",
            "Epoch 20/50\n",
            "391/391 [==============================] - 16s 40ms/step - loss: 1.1235 - accuracy: 0.5975 - val_loss: 1.3665 - val_accuracy: 0.5265\n",
            "Epoch 21/50\n",
            "391/391 [==============================] - 18s 45ms/step - loss: 1.0993 - accuracy: 0.6084 - val_loss: 1.3926 - val_accuracy: 0.5224\n",
            "Epoch 22/50\n",
            "391/391 [==============================] - 16s 41ms/step - loss: 1.0850 - accuracy: 0.6127 - val_loss: 1.3867 - val_accuracy: 0.5216\n",
            "Epoch 23/50\n",
            "391/391 [==============================] - 16s 41ms/step - loss: 1.0608 - accuracy: 0.6210 - val_loss: 1.3966 - val_accuracy: 0.5265\n",
            "Epoch 24/50\n",
            "391/391 [==============================] - 16s 41ms/step - loss: 1.0498 - accuracy: 0.6267 - val_loss: 1.4171 - val_accuracy: 0.5202\n",
            "Epoch 25/50\n",
            "391/391 [==============================] - 16s 40ms/step - loss: 1.0325 - accuracy: 0.6316 - val_loss: 1.3867 - val_accuracy: 0.5303\n",
            "Epoch 26/50\n",
            "391/391 [==============================] - 18s 46ms/step - loss: 1.0168 - accuracy: 0.6377 - val_loss: 1.3960 - val_accuracy: 0.5287\n",
            "Epoch 27/50\n",
            "391/391 [==============================] - 16s 40ms/step - loss: 1.0077 - accuracy: 0.6411 - val_loss: 1.4361 - val_accuracy: 0.5211\n",
            "Epoch 28/50\n",
            "391/391 [==============================] - 16s 40ms/step - loss: 0.9898 - accuracy: 0.6478 - val_loss: 1.4735 - val_accuracy: 0.5141\n",
            "Epoch 29/50\n",
            "391/391 [==============================] - 16s 40ms/step - loss: 0.9712 - accuracy: 0.6547 - val_loss: 1.4449 - val_accuracy: 0.5329\n",
            "Epoch 30/50\n",
            "391/391 [==============================] - 16s 40ms/step - loss: 0.9587 - accuracy: 0.6576 - val_loss: 1.5164 - val_accuracy: 0.5130\n",
            "Epoch 31/50\n",
            "391/391 [==============================] - 16s 41ms/step - loss: 0.9396 - accuracy: 0.6669 - val_loss: 1.4600 - val_accuracy: 0.5213\n",
            "Epoch 32/50\n",
            "391/391 [==============================] - 17s 43ms/step - loss: 0.9307 - accuracy: 0.6684 - val_loss: 1.4967 - val_accuracy: 0.5157\n",
            "Epoch 33/50\n",
            "391/391 [==============================] - 16s 40ms/step - loss: 0.9099 - accuracy: 0.6761 - val_loss: 1.4753 - val_accuracy: 0.5255\n",
            "Epoch 34/50\n",
            "391/391 [==============================] - 16s 40ms/step - loss: 0.8970 - accuracy: 0.6820 - val_loss: 1.5196 - val_accuracy: 0.5182\n",
            "Epoch 35/50\n",
            "391/391 [==============================] - 16s 40ms/step - loss: 0.8855 - accuracy: 0.6831 - val_loss: 1.5473 - val_accuracy: 0.5202\n",
            "Epoch 36/50\n",
            "391/391 [==============================] - 16s 40ms/step - loss: 0.8792 - accuracy: 0.6878 - val_loss: 1.5576 - val_accuracy: 0.5201\n",
            "Epoch 37/50\n",
            "391/391 [==============================] - 16s 41ms/step - loss: 0.8641 - accuracy: 0.6911 - val_loss: 1.5313 - val_accuracy: 0.5229\n",
            "Epoch 38/50\n",
            "391/391 [==============================] - 17s 43ms/step - loss: 0.8587 - accuracy: 0.6926 - val_loss: 1.5523 - val_accuracy: 0.5156\n",
            "Epoch 39/50\n",
            "391/391 [==============================] - 16s 42ms/step - loss: 0.8378 - accuracy: 0.7008 - val_loss: 1.6119 - val_accuracy: 0.5112\n",
            "Epoch 40/50\n",
            "391/391 [==============================] - 16s 41ms/step - loss: 0.8305 - accuracy: 0.7016 - val_loss: 1.6080 - val_accuracy: 0.5128\n",
            "Epoch 41/50\n",
            "391/391 [==============================] - 16s 40ms/step - loss: 0.8207 - accuracy: 0.7071 - val_loss: 1.6131 - val_accuracy: 0.5241\n",
            "Epoch 42/50\n",
            "391/391 [==============================] - 16s 40ms/step - loss: 0.8071 - accuracy: 0.7118 - val_loss: 1.6204 - val_accuracy: 0.5255\n",
            "Epoch 43/50\n",
            "391/391 [==============================] - 18s 45ms/step - loss: 0.7943 - accuracy: 0.7162 - val_loss: 1.6340 - val_accuracy: 0.5155\n",
            "Epoch 44/50\n",
            "391/391 [==============================] - 16s 41ms/step - loss: 0.7934 - accuracy: 0.7146 - val_loss: 1.6765 - val_accuracy: 0.5114\n",
            "Epoch 45/50\n",
            "391/391 [==============================] - 16s 41ms/step - loss: 0.7808 - accuracy: 0.7194 - val_loss: 1.7139 - val_accuracy: 0.5135\n",
            "Epoch 46/50\n",
            "391/391 [==============================] - 16s 42ms/step - loss: 0.7685 - accuracy: 0.7226 - val_loss: 1.7031 - val_accuracy: 0.5097\n",
            "Epoch 47/50\n",
            "391/391 [==============================] - 16s 42ms/step - loss: 0.7604 - accuracy: 0.7271 - val_loss: 1.7049 - val_accuracy: 0.5131\n",
            "Epoch 48/50\n",
            "391/391 [==============================] - 18s 47ms/step - loss: 0.7504 - accuracy: 0.7290 - val_loss: 1.7216 - val_accuracy: 0.5207\n",
            "Epoch 49/50\n",
            "391/391 [==============================] - 16s 41ms/step - loss: 0.7231 - accuracy: 0.7401 - val_loss: 1.7655 - val_accuracy: 0.5078\n",
            "Epoch 50/50\n",
            "391/391 [==============================] - 16s 41ms/step - loss: 0.7318 - accuracy: 0.7351 - val_loss: 1.7534 - val_accuracy: 0.5104\n"
          ]
        },
        {
          "output_type": "execute_result",
          "data": {
            "text/plain": [
              "<keras.src.callbacks.History at 0x7ebe7fb23880>"
            ]
          },
          "metadata": {},
          "execution_count": 6
        }
      ],
      "source": [
        "\n",
        "# Train the I2 model\n",
        "i2_model.fit(x_train, y_train, epochs=50, batch_size=128, validation_data=(x_test, y_test))\n",
        "\n",
        "\n",
        "\n"
      ]
    },
    {
      "source": [
        "# Define the create_dropout_model function\n",
        "def create_dropout_model():\n",
        "    model = tf.keras.Sequential([\n",
        "        tf.keras.layers.Flatten(input_shape=(32, 32, 3)),\n",
        "        tf.keras.layers.Dense(512, activation='relu'),\n",
        "        tf.keras.layers.Dropout(0.2),\n",
        "        tf.keras.layers.Dense(512, activation='relu'),\n",
        "        tf.keras.layers.Dropout(0.2),\n",
        "        tf.keras.layers.Dense(10, activation='softmax')\n",
        "    ])\n",
        "    return model\n",
        "\n",
        "# Create and compile the dropout model\n",
        "dropout_model = create_dropout_model()\n",
        "dropout_model.compile(optimizer='adam',\n",
        "                      loss='categorical_crossentropy',\n",
        "                      metrics=['accuracy'])"
      ],
      "cell_type": "code",
      "metadata": {
        "id": "AHe_K7vKPzFe"
      },
      "execution_count": null,
      "outputs": []
    },
    {
      "cell_type": "code",
      "execution_count": null,
      "metadata": {
        "colab": {
          "base_uri": "https://localhost:8080/"
        },
        "id": "rWeHvgQmYqQ6",
        "outputId": "89a9bc82-550d-4e5e-eb9a-5b5f99153bc5"
      },
      "outputs": [
        {
          "output_type": "stream",
          "name": "stdout",
          "text": [
            "Epoch 1/10\n",
            "391/391 [==============================] - 19s 47ms/step - loss: 1.8805 - accuracy: 0.3254 - val_loss: 1.7148 - val_accuracy: 0.3894\n",
            "Epoch 2/10\n",
            "391/391 [==============================] - 19s 48ms/step - loss: 1.6655 - accuracy: 0.4062 - val_loss: 1.6264 - val_accuracy: 0.4141\n",
            "Epoch 3/10\n",
            "391/391 [==============================] - 16s 41ms/step - loss: 1.5858 - accuracy: 0.4316 - val_loss: 1.5551 - val_accuracy: 0.4372\n",
            "Epoch 4/10\n",
            "391/391 [==============================] - 16s 40ms/step - loss: 1.5149 - accuracy: 0.4619 - val_loss: 1.5226 - val_accuracy: 0.4600\n",
            "Epoch 5/10\n",
            "391/391 [==============================] - 16s 40ms/step - loss: 1.4738 - accuracy: 0.4744 - val_loss: 1.5849 - val_accuracy: 0.4451\n",
            "Epoch 6/10\n",
            "391/391 [==============================] - 16s 40ms/step - loss: 1.4408 - accuracy: 0.4887 - val_loss: 1.4844 - val_accuracy: 0.4736\n",
            "Epoch 7/10\n",
            "391/391 [==============================] - 18s 45ms/step - loss: 1.4039 - accuracy: 0.4982 - val_loss: 1.4448 - val_accuracy: 0.4837\n",
            "Epoch 8/10\n",
            "391/391 [==============================] - 16s 42ms/step - loss: 1.3669 - accuracy: 0.5135 - val_loss: 1.4297 - val_accuracy: 0.4890\n",
            "Epoch 9/10\n",
            "391/391 [==============================] - 16s 41ms/step - loss: 1.3517 - accuracy: 0.5187 - val_loss: 1.4195 - val_accuracy: 0.4938\n",
            "Epoch 10/10\n",
            "391/391 [==============================] - 16s 40ms/step - loss: 1.3184 - accuracy: 0.5289 - val_loss: 1.3957 - val_accuracy: 0.5026\n",
            "------------------------------------------------------------------------------------------------------------\n",
            "Epoch 1/10\n",
            "391/391 [==============================] - 19s 45ms/step - loss: 2.1417 - accuracy: 0.1923 - val_loss: 1.9758 - val_accuracy: 0.2773\n",
            "Epoch 2/10\n",
            "391/391 [==============================] - 16s 41ms/step - loss: 2.0462 - accuracy: 0.2210 - val_loss: 1.9557 - val_accuracy: 0.3029\n",
            "Epoch 3/10\n",
            "391/391 [==============================] - 16s 41ms/step - loss: 2.0130 - accuracy: 0.2355 - val_loss: 1.9792 - val_accuracy: 0.2869\n",
            "Epoch 4/10\n",
            "391/391 [==============================] - 16s 41ms/step - loss: 1.9998 - accuracy: 0.2427 - val_loss: 1.9627 - val_accuracy: 0.3014\n",
            "Epoch 5/10\n",
            "391/391 [==============================] - 19s 47ms/step - loss: 1.9846 - accuracy: 0.2506 - val_loss: 1.9722 - val_accuracy: 0.2829\n",
            "Epoch 6/10\n",
            "391/391 [==============================] - 16s 42ms/step - loss: 1.9811 - accuracy: 0.2552 - val_loss: 1.9208 - val_accuracy: 0.3180\n",
            "Epoch 7/10\n",
            "391/391 [==============================] - 16s 42ms/step - loss: 1.9714 - accuracy: 0.2588 - val_loss: 1.9554 - val_accuracy: 0.3187\n",
            "Epoch 8/10\n",
            "391/391 [==============================] - 16s 41ms/step - loss: 1.9723 - accuracy: 0.2594 - val_loss: 1.9382 - val_accuracy: 0.2883\n",
            "Epoch 9/10\n",
            "391/391 [==============================] - 18s 46ms/step - loss: 1.9619 - accuracy: 0.2621 - val_loss: 1.9631 - val_accuracy: 0.2897\n",
            "Epoch 10/10\n",
            "391/391 [==============================] - 16s 41ms/step - loss: 1.9576 - accuracy: 0.2676 - val_loss: 1.9776 - val_accuracy: 0.2765\n"
          ]
        },
        {
          "output_type": "execute_result",
          "data": {
            "text/plain": [
              "<keras.src.callbacks.History at 0x7ebe801ccb50>"
            ]
          },
          "metadata": {},
          "execution_count": 11
        }
      ],
      "source": [
        "import tensorflow as tf\n",
        "\n",
        "# Load CIFAR-10 dataset\n",
        "(x_train, y_train), (x_test, y_test) = tf.keras.datasets.cifar10.load_data()\n",
        "\n",
        "# Preprocess the data\n",
        "x_train = x_train.astype('float32') / 255.0\n",
        "x_test = x_test.astype('float32') / 255.0\n",
        "y_train = tf.keras.utils.to_categorical(y_train, 10)\n",
        "y_test = tf.keras.utils.to_categorical(y_test, 10)\n",
        "\n",
        "# Define the I2 model\n",
        "def create_i2_model():\n",
        "    model = tf.keras.Sequential([\n",
        "        tf.keras.layers.Flatten(input_shape=(32, 32, 3)),\n",
        "        tf.keras.layers.Dense(512, activation='relu'),\n",
        "        tf.keras.layers.Dense(512, activation='relu'),\n",
        "        tf.keras.layers.Dense(10, activation='softmax')\n",
        "    ])\n",
        "    return model\n",
        "\n",
        "# Define the dropout model\n",
        "def create_dropout_model():\n",
        "    model = tf.keras.Sequential([\n",
        "        tf.keras.layers.Flatten(input_shape=(32, 32, 3)),\n",
        "        tf.keras.layers.Dense(512, activation='relu'),\n",
        "        tf.keras.layers.Dropout(0.5),\n",
        "        tf.keras.layers.Dense(512, activation='relu'),\n",
        "        tf.keras.layers.Dropout(0.5),\n",
        "        tf.keras.layers.Dense(10, activation='softmax')\n",
        "    ])\n",
        "    return model\n",
        "\n",
        "# Create and compile the I2 model\n",
        "i2_model = create_i2_model()\n",
        "i2_model.compile(optimizer='adam',\n",
        "                 loss='categorical_crossentropy',\n",
        "                 metrics=['accuracy'])\n",
        "\n",
        "# Train the I2 model\n",
        "i2_model.fit(x_train, y_train, epochs=10, batch_size=128, validation_data=(x_test, y_test))\n",
        "\n",
        "print(\"------------------------------------------------------------------------------------------------------------\")\n",
        "\n",
        "# Create and compile the dropout model\n",
        "dropout_model = create_dropout_model()\n",
        "dropout_model.compile(optimizer='adam',\n",
        "                      loss='categorical_crossentropy',\n",
        "                      metrics=['accuracy'])\n",
        "\n",
        "# Train the dropout model\n",
        "dropout_model.fit(x_train, y_train, epochs=10, batch_size=128, validation_data=(x_test, y_test))\n"
      ]
    }
  ],
  "metadata": {
    "colab": {
      "provenance": []
    },
    "kernelspec": {
      "display_name": "Python 3",
      "name": "python3"
    },
    "language_info": {
      "name": "python"
    }
  },
  "nbformat": 4,
  "nbformat_minor": 0
}